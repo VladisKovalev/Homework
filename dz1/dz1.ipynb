{
 "cells": [
  {
   "cell_type": "markdown",
   "metadata": {},
   "source": [
    "# Задание 1"
   ]
  },
  {
   "cell_type": "code",
   "execution_count": 10,
   "metadata": {},
   "outputs": [],
   "source": [
    "phrase_1 = 'Насколько проще было бы писать программы, если бы не заказчики'\n",
    "phrase_2 = '640Кб должно хватить для любых задач. Билл Гейтс (по легенде)'"
   ]
  },
  {
   "cell_type": "code",
   "execution_count": 12,
   "metadata": {},
   "outputs": [],
   "source": [
    "phrase_1 = '640Кб должно хватить для любых задач. Билл Гейтс (по легенде)'\n",
    "phrase_2 = 'Насколько проще было бы писать программы, если бы не заказчики'"
   ]
  },
  {
   "cell_type": "code",
   "execution_count": 14,
   "metadata": {},
   "outputs": [],
   "source": [
    "phrase_1 = 'Насколько проще было бы писать программы, если бы не заказчики'\n",
    "phrase_2 = 'Насколько проще было бы писать программы, если бы не заказчики'"
   ]
  },
  {
   "cell_type": "code",
   "execution_count": 15,
   "metadata": {},
   "outputs": [
    {
     "name": "stdout",
     "output_type": "stream",
     "text": [
      "Фразы равной длинны\n"
     ]
    }
   ],
   "source": [
    "if len(phrase_1) == len(phrase_2):\n",
    "    print('Фразы равной длинны')\n",
    "elif len(phrase_1) > len(phrase_2):\n",
    "    print('Фраза 1 длиннее фразы 2')\n",
    "else: print('Фраза 2 длиннее фразы 1')"
   ]
  },
  {
   "cell_type": "markdown",
   "metadata": {},
   "source": [
    "# Задание 2"
   ]
  },
  {
   "cell_type": "code",
   "execution_count": 66,
   "metadata": {},
   "outputs": [
    {
     "name": "stdout",
     "output_type": "stream",
     "text": [
      "Високосный год\n"
     ]
    }
   ],
   "source": [
    "year = 1600\n",
    "if (year % 4 == 0 and year % 100 != 0) or year % 400 == 0 : \n",
    "    print('Високосный год')\n",
    "else:\n",
    "    print('Обычный год')"
   ]
  },
  {
   "cell_type": "markdown",
   "metadata": {},
   "source": [
    "# Задание 3"
   ]
  },
  {
   "cell_type": "code",
   "execution_count": 82,
   "metadata": {},
   "outputs": [
    {
     "name": "stdout",
     "output_type": "stream",
     "text": [
      "Весы\n"
     ]
    }
   ],
   "source": [
    "mon=input()\n",
    "day=int(input())\n",
    "\n",
    "if mon.upper() == 'МАЙ':\n",
    "    if day<=21:\n",
    "        print('Телец')\n",
    "    else:\n",
    "        print('Близнец')   \n",
    "elif mon.upper() == 'ИЮНЬ':\n",
    "    if day<=21:\n",
    "        print('Близнец')\n",
    "    else:\n",
    "        print('Рак')  \n",
    "elif mon.upper() == 'ИЮЛЬ':\n",
    "    if day<=22:\n",
    "        print('Рак')\n",
    "    else:\n",
    "        print('Лев')  \n",
    "elif mon.upper() == 'АВГУСТ':\n",
    "    if day<=21:\n",
    "        print('Лев')\n",
    "    else:\n",
    "        print('Дева')  \n",
    "elif mon.upper() == 'СЕНТЯБРЬ':\n",
    "    if day<=23:\n",
    "        print('Дева')\n",
    "    else:\n",
    "        print('Весы')  \n",
    "elif mon.upper() == 'ОКТЯБРЬ':\n",
    "    if day<=23:\n",
    "        print('Весы')\n",
    "    else:\n",
    "        print('Скорпион')  \n",
    "elif mon.upper() == 'НОЯБРЬ':\n",
    "    if day<=22:\n",
    "        print('Скорпион')\n",
    "    else:\n",
    "        print('Стрелец')  \n",
    "elif mon.upper() == 'ДЕКАБРЬ':\n",
    "    if day<=22:\n",
    "        print('Стрелец')\n",
    "    else:\n",
    "        print('Козерог')  \n",
    "elif mon.upper() == 'ЯНВАРЬ':\n",
    "    if day<=20:\n",
    "        print('Козерог')\n",
    "    else:\n",
    "        print('Водолей')  \n",
    "elif mon.upper() == 'ФЕВРАЛЬ':\n",
    "    if day<=19:\n",
    "        print('Водолей')\n",
    "    else:\n",
    "        print('Рыбы')  \n",
    "elif mon.upper() == 'МАРТ':\n",
    "    if day<=20:\n",
    "        print('Рыбы')\n",
    "    else:\n",
    "        print('Овен')  \n",
    "elif mon.upper() == 'АПРЕЛЬ':\n",
    "    if day<=20:\n",
    "        print('Овен')\n",
    "    else:\n",
    "        print('Телец')  \n",
    "else:\n",
    "    print('exit')\n"
   ]
  },
  {
   "cell_type": "markdown",
   "metadata": {},
   "source": [
    "Овен (21 марта — 20 апреля)\n",
    "Телец (21 апреля — 21 мая) \n",
    "Близнецы (22 мая — 21 июня)\n",
    "Рак (22 июня — 22 июля)\n",
    "Лев (23 июля — 21 августа)\n",
    "Дева (22 августа — 23 сентября) \n",
    "Весы (24 сентября — 23 октября) \n",
    "Скорпион (24 октября — 22 ноября)\n",
    "Стрелец (23 ноября — 22 декабря)\n",
    "Козерог (23 декабря — 20 января) \n",
    "Водолей (21 января — 19 февраля) \n",
    "Рыбы (20 февраля — 20 марта)"
   ]
  },
  {
   "cell_type": "markdown",
   "metadata": {},
   "source": [
    "# Другой вариант задания 5"
   ]
  },
  {
   "cell_type": "code",
   "execution_count": 173,
   "metadata": {
    "scrolled": true
   },
   "outputs": [
    {
     "name": "stdout",
     "output_type": "stream",
     "text": [
      "Введите день:\n",
      "33\n",
      "Введите месяц:\n",
      "Июль\n",
      "Неверный день\n",
      "Введите день от 1 до 31:\n",
      "29\n"
     ]
    },
    {
     "data": {
      "text/plain": [
       "'Лев'"
      ]
     },
     "execution_count": 173,
     "metadata": {},
     "output_type": "execute_result"
    }
   ],
   "source": [
    "mons=['ЯНВАРЬ','ФЕВРАЛЬ','МАРТ','АПРЕЛЬ','МАЙ','ИЮНЬ','ИЮЛЬ','АВГУСТ','СЕНТЯБРЬ','ОКТЯБРЬ','НОЯБРЬ','ДЕКАБРЬ']\n",
    "\n",
    "print('Введите день:')\n",
    "day=int(input())\n",
    "\n",
    "print('Введите месяц:')\n",
    "mon=input()\n",
    "\n",
    "if mon.upper() not in monsd:\n",
    "    print('Неверный месяц') \n",
    "    print('Введите месяц:')\n",
    "    mon=input()\n",
    "if mon.upper()==mons[1]:\n",
    "    if day>29:\n",
    "        print('Неверный день')\n",
    "        print('Введите день от 1 до 29:')\n",
    "        day=int(input())\n",
    "elif mon.upper() in ['ЯНВАРЬ','МАРТ','МАЙ','ИЮЛЬ','АВГУСТ','ОКТЯБРЬ','ДЕКАБРЬ']:\n",
    "    if day>=31:\n",
    "        print('Неверный день')\n",
    "        print('Введите день от 1 до 31:')\n",
    "        day=int(input()) \n",
    "    elif day>=30:\n",
    "        print('Неверный день')\n",
    "        print('Введите день от 1 до 30:')\n",
    "        day=int(input()) \n",
    "\n",
    "monsd={'ЯНВАРЬ':20,'ФЕВРАЛЬ':19,'МАРТ':20,'АПРЕЛЬ':20,'МАЙ':21,'ИЮНЬ':21,'ИЮЛЬ':22,'АВГУСТ':21,\n",
    "       'СЕНТЯБРЬ':23,'ОКТЯБРЬ':23,'НОЯБРЬ':22,'ДЕКАБРЬ':22}\n",
    "znak={'ЯНВАРЬ20':'Козерог','ФЕВРАЛЬ19':'Водолей','МАРТ20':'Рыбы','АПРЕЛЬ20':'Овен','МАЙ21':'Телец','ИЮНЬ21':'Близнецы',\n",
    "        'ИЮЛЬ22':'Рак','АВГУСТ21':'Лев','СЕНТЯБРЬ23':'Дева','ОКТЯБРЬ23':'Весы','НОЯБРЬ22':'Скорпион','ДЕКАБРЬ22':'Стрелец'}\n",
    "mon=mon.upper()\n",
    "if monsd[mon]>=day:\n",
    "    print(monsd[mon])\n",
    "else:\n",
    "    z=mons.index(mon)+1\n",
    "    mon=mons[z]\n",
    "    day=monsd[mon]\n",
    "\n",
    "z=mon+str(day)    \n",
    "znak[z]"
   ]
  },
  {
   "cell_type": "markdown",
   "metadata": {},
   "source": [
    "# Задание 4"
   ]
  },
  {
   "cell_type": "code",
   "execution_count": 8,
   "metadata": {},
   "outputs": [
    {
     "name": "stdout",
     "output_type": "stream",
     "text": [
      "Коробка №2\n"
     ]
    }
   ],
   "source": [
    "width = 10\n",
    "length = 205\n",
    "height = 5\n",
    "\n",
    "width  = int(width) \n",
    "length = int(length)\n",
    "height = int(height)\n",
    "\n",
    "if length>=200:\n",
    "    print('Упаковка для лыж')\n",
    "elif width<=15 and length<=15 and height<=15:\n",
    "    print('Коробка №1')\n",
    "elif 15<width<=50 or 15<length<=50 or 15<height<=50:\n",
    "    print('Коробка №2')\n",
    "else:\n",
    "    print('Стандартная коробка №3')    "
   ]
  },
  {
   "cell_type": "markdown",
   "metadata": {},
   "source": [
    "# Задание 5"
   ]
  },
  {
   "cell_type": "code",
   "execution_count": 35,
   "metadata": {
    "scrolled": true
   },
   "outputs": [
    {
     "name": "stdout",
     "output_type": "stream",
     "text": [
      "number = 135422\n",
      "Несчастливый билет\n"
     ]
    }
   ],
   "source": [
    "number=str(input('number = '))\n",
    "if int(number[0])+int(number[1])+int(number[2])==int(number[3])+int(number[4])+int(number[5]):\n",
    "    print('Счастливый билет')\n",
    "else: \n",
    "    print('Несчастливый билет')"
   ]
  },
  {
   "cell_type": "markdown",
   "metadata": {},
   "source": [
    "# Задание 6"
   ]
  },
  {
   "cell_type": "code",
   "execution_count": 33,
   "metadata": {},
   "outputs": [
    {
     "name": "stdout",
     "output_type": "stream",
     "text": [
      "Введите тип фигуры\n",
      "треугольник\n",
      "Введите длину стороны A:\n",
      "4\n",
      "Введите длину стороны B:\n",
      "4\n",
      "Введите длину стороны C:\n",
      "1\n",
      "Результат:\n",
      "Площадь треугольника: 1.984313483298443\n"
     ]
    }
   ],
   "source": [
    "# print('Введите тип фигуры')\n",
    "types=input('Введите тип фигуры\\n')\n",
    "if types.upper()=='КРУГ':\n",
    "    print('Введите радиус круга:')\n",
    "    r=int(input())\n",
    "    s=(3.14*r)**2\n",
    "    print('Результат:\\nПлощадь круга:',s)\n",
    "elif types.upper()=='ТРЕУГОЛЬНИК':\n",
    "    print('Введите длину стороны A:')\n",
    "    a=int(input())\n",
    "    print('Введите длину стороны B:')\n",
    "    b=int(input())\n",
    "    print('Введите длину стороны C:')\n",
    "    c=int(input())\n",
    "    p=(a+b+c)*0.5\n",
    "    s=(p*(p-a)*(p-b)*(p-c))**0.5\n",
    "    print('Результат:\\nПлощадь треугольника:',s)\n",
    "elif types.upper()=='ПРЯМОУГОЛЬНИК': \n",
    "    print('Введите длину стороны A:')\n",
    "    a=int(input())\n",
    "    print('Введите длину стороны B:')\n",
    "    b=int(input())\n",
    "    s=a*b\n",
    "    print('Результат:\\nПлощадь прямоугольника:',s)\n",
    "else:\n",
    "    print('Нет решения')"
   ]
  }
 ],
 "metadata": {
  "kernelspec": {
   "display_name": "Python 3",
   "language": "python",
   "name": "python3"
  },
  "language_info": {
   "codemirror_mode": {
    "name": "ipython",
    "version": 3
   },
   "file_extension": ".py",
   "mimetype": "text/x-python",
   "name": "python",
   "nbconvert_exporter": "python",
   "pygments_lexer": "ipython3",
   "version": "3.8.5"
  }
 },
 "nbformat": 4,
 "nbformat_minor": 2
}
