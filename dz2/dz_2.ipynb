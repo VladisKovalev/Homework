{
 "cells": [
  {
   "cell_type": "markdown",
   "metadata": {},
   "source": [
    "# Задание 1"
   ]
  },
  {
   "cell_type": "code",
   "execution_count": 25,
   "metadata": {},
   "outputs": [
    {
     "name": "stdout",
     "output_type": "stream",
     "text": [
      "Результат:\n",
      " am\n"
     ]
    }
   ],
   "source": [
    "text='mams'\n",
    "\n",
    "if len(text)%2==0:\n",
    "    lenth=int(len(text)/2)\n",
    "    print('Результат:\\n',text[lenth-1]+text[lenth])\n",
    "else:\n",
    "    lenth=int(len(text)/2)\n",
    "    print('Результат:\\n',text[lenth])"
   ]
  },
  {
   "cell_type": "markdown",
   "metadata": {},
   "source": [
    "# Задание 2"
   ]
  },
  {
   "cell_type": "code",
   "execution_count": 38,
   "metadata": {},
   "outputs": [
    {
     "name": "stdout",
     "output_type": "stream",
     "text": [
      "Введите число:\n",
      "3\n",
      "Введите число:\n",
      "1\n",
      "Введите число:\n",
      "2\n",
      "Введите число:\n",
      "0\n",
      "Результат:\n",
      " 6\n"
     ]
    }
   ],
   "source": [
    "p=int(input('Введите число:\\n'))\n",
    "z=0\n",
    "while p != 0:\n",
    "    z += p\n",
    "    p=int(input('Введите число:\\n'))    \n",
    "print('Результат:\\n',z)"
   ]
  },
  {
   "cell_type": "markdown",
   "metadata": {},
   "source": [
    "# Задание 3"
   ]
  },
  {
   "cell_type": "code",
   "execution_count": 74,
   "metadata": {},
   "outputs": [
    {
     "name": "stdout",
     "output_type": "stream",
     "text": [
      "Результат:\n",
      "\n",
      "Идеальные пары:\n",
      "Alex и Emma\n",
      "Arthur и Kate\n",
      "John и Kira\n",
      "Peter и Liza\n",
      "Richard и Trisha\n"
     ]
    }
   ],
   "source": [
    "boys = ['Peter', 'Alex', 'John', 'Arthur', 'Richard']\n",
    "girls = ['Kate', 'Liza', 'Kira', 'Emma','Trisha']\n",
    "boys.sort()\n",
    "girls.sort()\n",
    "if len(boys)!=len(girls):\n",
    "    print('Результат:\\n'+'Внимание, кто-то может остаться без пары!')\n",
    "else:\n",
    "    i=0\n",
    "    print('Результат:\\n\\n'+'Идеальные пары:')\n",
    "    while i != len(boys):\n",
    "        print(boys[i],'и',girls[i])\n",
    "        i+=1\n",
    "      "
   ]
  },
  {
   "cell_type": "markdown",
   "metadata": {},
   "source": [
    "# Задание 4"
   ]
  },
  {
   "cell_type": "code",
   "execution_count": 3,
   "metadata": {},
   "outputs": [],
   "source": [
    "countries_temperature =  [ \n",
    "['Thailand', [75.2, 77, 78.8, 73.4, 68, 75.2, 77]],\n",
    "['Germany', [57.2, 55.4, 59, 59, 53.6]],\n",
    "['Russia', [35.6, 37.4, 39.2, 41, 42.8, 39.2, 35.6]],\n",
    "['Poland', [50, 50, 53.6, 57.2, 55.4, 55.4]] \n",
    "]"
   ]
  },
  {
   "cell_type": "code",
   "execution_count": 4,
   "metadata": {},
   "outputs": [
    {
     "name": "stdout",
     "output_type": "stream",
     "text": [
      "Средняя температура в странах:\n",
      "Thailand: 23.9 C\n",
      "Germany: 13.8 C\n",
      "Russia: 3.7 C\n",
      "Poland: 12.0 C\n"
     ]
    }
   ],
   "source": [
    "print(\"Средняя температура в странах:\")\n",
    "for countr,temp in countries_temperature:\n",
    "    z=0\n",
    "    for i in temp:\n",
    "        z+=(i-32)*(5/9)\n",
    "        pass\n",
    "    print(f\"{countr}: {round(z/len(temp),1)} C\")    \n"
   ]
  },
  {
   "cell_type": "markdown",
   "metadata": {},
   "source": [
    "# Задание 5"
   ]
  },
  {
   "cell_type": "code",
   "execution_count": 196,
   "metadata": {},
   "outputs": [
    {
     "name": "stdout",
     "output_type": "stream",
     "text": [
      "Среднее количество просмотров на уникального пользователя: 23.25\n"
     ]
    }
   ],
   "source": [
    "stream = ['2018-01-01,user1,3', \n",
    "          '2018-01-07,user1,4', \n",
    "          '2018-03-29,user1,1', \n",
    "          '2018-04-04,user1,13', \n",
    "          '2018-01-05,user2,7', \n",
    "          '2018-06-14,user3,4', \n",
    "          '2018-07-02,user3,10', \n",
    "          '2018-03-21,user4,19', \n",
    "          '2018-03-22,user4,4', \n",
    "          '2018-04-22,user4,8', \n",
    "          '2018-05-03,user4,9', \n",
    "          '2018-05-11,user4,11', ] \n",
    "# stream = [ '2018-01-01,user100,150', '2018-01-07,user99,205', '2018-03-29,user1001,81' ] \n",
    "u=[]\n",
    "e=0\n",
    "for use in stream:\n",
    "    date=use.split(',')\n",
    "    u.append(date[1])  \n",
    "    e+=int(date[2])\n",
    "    pass\n",
    "u=list(set(u))\n",
    "print(f'Среднее количество просмотров на уникального пользователя: {round(e/len(u),2)}')12"
   ]
  },
  {
   "cell_type": "markdown",
   "metadata": {},
   "source": [
    "# Задание 6"
   ]
  },
  {
   "cell_type": "code",
   "execution_count": 261,
   "metadata": {},
   "outputs": [
    {
     "name": "stdout",
     "output_type": "stream",
     "text": [
      "Введите числа:\n",
      "1 1 2 2 3 3 4\n",
      "Результат:\n",
      "1 2 3 \n"
     ]
    }
   ],
   "source": [
    "i=input('Введите числа:\\n')\n",
    "i=[int(r) for r in i.split(' ')]\n",
    "rr=[int(r) for r in list(set(i))]\n",
    "rr=sorted(rr)\n",
    "e=('')\n",
    "for r in rr:\n",
    "    c=0\n",
    "    for t in i:\n",
    "        if t==r:\n",
    "            c+=1\n",
    "            pass\n",
    "    if c%2==0:       \n",
    "        e+=(str(r)+' ')\n",
    "\n",
    "print(f'Результат:\\n{e}')\n"
   ]
  }
 ],
 "metadata": {
  "kernelspec": {
   "display_name": "Python 3",
   "language": "python",
   "name": "python3"
  },
  "language_info": {
   "codemirror_mode": {
    "name": "ipython",
    "version": 3
   },
   "file_extension": ".py",
   "mimetype": "text/x-python",
   "name": "python",
   "nbconvert_exporter": "python",
   "pygments_lexer": "ipython3",
   "version": "3.8.5"
  }
 },
 "nbformat": 4,
 "nbformat_minor": 4
}
